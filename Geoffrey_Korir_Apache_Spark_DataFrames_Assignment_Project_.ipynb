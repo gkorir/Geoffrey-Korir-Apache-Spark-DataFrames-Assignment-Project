{
  "nbformat": 4,
  "nbformat_minor": 0,
  "metadata": {
    "colab": {
      "provenance": [],
      "toc_visible": true
    },
    "kernelspec": {
      "name": "python3",
      "display_name": "Python 3"
    },
    "language_info": {
      "name": "python"
    }
  },
  "cells": [
    {
      "cell_type": "markdown",
      "source": [
        "###**Apache Spark DataFrames Assignment  Project**###"
      ],
      "metadata": {
        "id": "WPNpC1irV3c9"
      }
    },
    {
      "cell_type": "markdown",
      "source": [
        "##**Problem statement**##\n",
        "\n",
        "As a Data professional, you need to perform an analysis by answering questions about\n",
        "some stock market data on Safaricom from the years 2012-2017"
      ],
      "metadata": {
        "id": "LUj29YXvWdHR"
      }
    },
    {
      "cell_type": "markdown",
      "source": [
        "###**Required actions**\n",
        "**Data Importation and Exploration**:\n",
        "\n",
        "● Start a spark session and load the stock file while inferring the data types.\n",
        "\n",
        "● Determine the column names\n",
        "\n",
        "● Make observations about the schema.\n",
        "\n",
        "● Show the first 5 rows\n",
        "\n",
        "● Use the describe method to learn about the data frame\n",
        "\n",
        "**Data Preparation**\n",
        "\n",
        "● Format all the data to 2 decimal places i.e. format_number()\n",
        "\n",
        "● Create a new data frame with a column called HV Ratio that is the ratio of the\n",
        "High Price versus volume of stock traded for a day\n",
        "\n",
        "**Data Analysis**\n",
        "\n",
        "● What day had the Peak High in Price?\n",
        "\n",
        "● What is the mean of the Close column?\n",
        "\n",
        "● What is the max and min of the Volume column?\n",
        "\n",
        "● How many days was the Close lower than 60 dollars?\n",
        "\n",
        "● What percentage of the time was the High greater than 80 dollars?\n",
        "\n",
        "● What is the Pearson correlation between High and Volume?\n",
        "\n",
        "● What is the max High per year?\n",
        "\n",
        "● What is the average Close for each Calendar Month?\n",
        "\n",
        "**Data Source** :Dataset URL (CSV File): https://bit.ly/3pmchka"
      ],
      "metadata": {
        "id": "TNqCGnLhYPfI"
      }
    },
    {
      "cell_type": "markdown",
      "source": [
        "##**Pre-requisites**##"
      ],
      "metadata": {
        "id": "kkk_U_t1Z5TH"
      }
    },
    {
      "cell_type": "code",
      "source": [
        "#pyspark instalation done \n",
        "#\n",
        "!pip install pyspark"
      ],
      "metadata": {
        "colab": {
          "base_uri": "https://localhost:8080/"
        },
        "id": "RNi2krayaM8E",
        "outputId": "8731b2a7-d968-47e5-b5e7-77bdb5c36042"
      },
      "execution_count": 1,
      "outputs": [
        {
          "output_type": "stream",
          "name": "stdout",
          "text": [
            "Looking in indexes: https://pypi.org/simple, https://us-python.pkg.dev/colab-wheels/public/simple/\n",
            "Collecting pyspark\n",
            "  Downloading pyspark-3.3.2.tar.gz (281.4 MB)\n",
            "\u001b[2K     \u001b[90m━━━━━━━━━━━━━━━━━━━━━━━━━━━━━━━━━━━━━━━\u001b[0m \u001b[32m281.4/281.4 MB\u001b[0m \u001b[31m5.3 MB/s\u001b[0m eta \u001b[36m0:00:00\u001b[0m\n",
            "\u001b[?25h  Preparing metadata (setup.py) ... \u001b[?25l\u001b[?25hdone\n",
            "Collecting py4j==0.10.9.5\n",
            "  Downloading py4j-0.10.9.5-py2.py3-none-any.whl (199 kB)\n",
            "\u001b[2K     \u001b[90m━━━━━━━━━━━━━━━━━━━━━━━━━━━━━━━━━━━━━━\u001b[0m \u001b[32m199.7/199.7 KB\u001b[0m \u001b[31m27.6 MB/s\u001b[0m eta \u001b[36m0:00:00\u001b[0m\n",
            "\u001b[?25hBuilding wheels for collected packages: pyspark\n",
            "  Building wheel for pyspark (setup.py) ... \u001b[?25l\u001b[?25hdone\n",
            "  Created wheel for pyspark: filename=pyspark-3.3.2-py2.py3-none-any.whl size=281824025 sha256=5d7cf4c691cb37d38c4494071464269a6274b8467a47efe8cfff9a7ba9fc6156\n",
            "  Stored in directory: /root/.cache/pip/wheels/b1/59/a0/a1a0624b5e865fd389919c1a10f53aec9b12195d6747710baf\n",
            "Successfully built pyspark\n",
            "Installing collected packages: py4j, pyspark\n",
            "Successfully installed py4j-0.10.9.5 pyspark-3.3.2\n"
          ]
        }
      ]
    },
    {
      "cell_type": "code",
      "source": [
        "#then run the spark session\n",
        "from pyspark.sql import SparkSession\n",
        "spark = SparkSession.builder.master(\"local[*]\").getOrCreate()\n",
        "sc = spark.sparkContext\n",
        "from pyspark.sql import SQLContext"
      ],
      "metadata": {
        "id": "Ksy0z2gKbAck"
      },
      "execution_count": 29,
      "outputs": []
    },
    {
      "cell_type": "code",
      "source": [
        "# Starting a spark session and loading the stock file while inferring the data types\n",
        "\n",
        "stock_saf_df = spark.read.csv(\"saf_stock.csv\", header=True, inferSchema=True)"
      ],
      "metadata": {
        "id": "_ImA7adJc4C_"
      },
      "execution_count": 22,
      "outputs": []
    },
    {
      "cell_type": "code",
      "source": [
        "# Determining the column names\n",
        "\n",
        "print(\"Column Names:\", stock_saf_df.columns)"
      ],
      "metadata": {
        "colab": {
          "base_uri": "https://localhost:8080/"
        },
        "id": "mOz3qaz6d72u",
        "outputId": "49025637-5ddc-4990-91d7-b7047ca29d8e"
      },
      "execution_count": 23,
      "outputs": [
        {
          "output_type": "stream",
          "name": "stdout",
          "text": [
            "Column Names: ['Date', 'Open', 'High', 'Low', 'Close', 'Volume', 'Adj Close']\n"
          ]
        }
      ]
    },
    {
      "cell_type": "code",
      "source": [
        "# Making observations about the schema\n",
        "print(\"Schema:\"), stock_saf_df.printSchema()"
      ],
      "metadata": {
        "colab": {
          "base_uri": "https://localhost:8080/"
        },
        "id": "UxvbY4H0ecKy",
        "outputId": "028fa6f1-f7fe-46c4-fddd-29a6f70be4c2"
      },
      "execution_count": 24,
      "outputs": [
        {
          "output_type": "stream",
          "name": "stdout",
          "text": [
            "Schema:\n",
            "root\n",
            " |-- Date: timestamp (nullable = true)\n",
            " |-- Open: double (nullable = true)\n",
            " |-- High: double (nullable = true)\n",
            " |-- Low: double (nullable = true)\n",
            " |-- Close: double (nullable = true)\n",
            " |-- Volume: integer (nullable = true)\n",
            " |-- Adj Close: double (nullable = true)\n",
            "\n"
          ]
        },
        {
          "output_type": "execute_result",
          "data": {
            "text/plain": [
              "(None, None)"
            ]
          },
          "metadata": {},
          "execution_count": 24
        }
      ]
    },
    {
      "cell_type": "code",
      "source": [
        "# Showing the first 5 rows of our data\n",
        "stock_saf_df.show(5)"
      ],
      "metadata": {
        "colab": {
          "base_uri": "https://localhost:8080/"
        },
        "id": "8GKRbFbmfBSV",
        "outputId": "5f38ec71-ca74-4cb4-a321-9bb3c81dd917"
      },
      "execution_count": 25,
      "outputs": [
        {
          "output_type": "stream",
          "name": "stdout",
          "text": [
            "+-------------------+------------------+---------+---------+------------------+--------+------------------+\n",
            "|               Date|              Open|     High|      Low|             Close|  Volume|         Adj Close|\n",
            "+-------------------+------------------+---------+---------+------------------+--------+------------------+\n",
            "|2012-01-03 00:00:00|         59.970001|61.060001|59.869999|         60.330002|12668800|52.619234999999996|\n",
            "|2012-01-04 00:00:00|60.209998999999996|60.349998|59.470001|59.709998999999996| 9593300|         52.078475|\n",
            "|2012-01-05 00:00:00|         59.349998|59.619999|58.369999|         59.419998|12768200|         51.825539|\n",
            "|2012-01-06 00:00:00|         59.419998|59.450001|58.869999|              59.0| 8069400|          51.45922|\n",
            "|2012-01-09 00:00:00|         59.029999|59.549999|58.919998|             59.18| 6679300|51.616215000000004|\n",
            "+-------------------+------------------+---------+---------+------------------+--------+------------------+\n",
            "only showing top 5 rows\n",
            "\n"
          ]
        }
      ]
    },
    {
      "cell_type": "code",
      "source": [
        "# to learn about the data frame we use the describe method as below \n",
        "\n",
        "stock_saf_df.describe().show()"
      ],
      "metadata": {
        "colab": {
          "base_uri": "https://localhost:8080/"
        },
        "id": "fVmaZ4ZRhUKW",
        "outputId": "f2dc3ee0-7697-4b3c-c22a-76daed59d47c"
      },
      "execution_count": 26,
      "outputs": [
        {
          "output_type": "stream",
          "name": "stdout",
          "text": [
            "+-------+------------------+-----------------+-----------------+-----------------+-----------------+-----------------+\n",
            "|summary|              Open|             High|              Low|            Close|           Volume|        Adj Close|\n",
            "+-------+------------------+-----------------+-----------------+-----------------+-----------------+-----------------+\n",
            "|  count|              1258|             1258|             1258|             1258|             1258|             1258|\n",
            "|   mean| 72.35785375357709|72.83938807631165| 71.9186009594594|72.38844998012726|8222093.481717011|67.23883848728146|\n",
            "| stddev|  6.76809024470826|6.768186808159218|6.744075756255496|6.756859163732991|  4519780.8431556|6.722609449996857|\n",
            "|    min|56.389998999999996|        57.060001|        56.299999|        56.419998|          2094900|        50.363689|\n",
            "|    max|         90.800003|        90.970001|            89.25|        90.470001|         80898100|84.91421600000001|\n",
            "+-------+------------------+-----------------+-----------------+-----------------+-----------------+-----------------+\n",
            "\n"
          ]
        }
      ]
    },
    {
      "cell_type": "markdown",
      "source": [
        "##Performing Data Preparation##"
      ],
      "metadata": {
        "id": "XITC76eMh0SZ"
      }
    },
    {
      "cell_type": "code",
      "source": [
        "# Formating all the data to 2 decimal places i.e. format_number()\n",
        "\n",
        "from pyspark.sql.functions import format_number\n",
        "\n",
        "##\n",
        "numeric_cols = [col[0] for col in stock_saf_df.dtypes if col[1] in ['double', 'int']]\n",
        "stock_saf_df = stock_saf_df.select(stock_saf_df[\"Date\"], *(format_number(col, 2).alias(col) for col in numeric_cols))\n",
        "stock_saf_df.show(5)"
      ],
      "metadata": {
        "colab": {
          "base_uri": "https://localhost:8080/"
        },
        "id": "dfP9XVyFh6eM",
        "outputId": "0f2ad180-6289-4dfa-93ec-e926600ce058"
      },
      "execution_count": 27,
      "outputs": [
        {
          "output_type": "stream",
          "name": "stdout",
          "text": [
            "+-------------------+-----+-----+-----+-----+-------------+---------+\n",
            "|               Date| Open| High|  Low|Close|       Volume|Adj Close|\n",
            "+-------------------+-----+-----+-----+-----+-------------+---------+\n",
            "|2012-01-03 00:00:00|59.97|61.06|59.87|60.33|12,668,800.00|    52.62|\n",
            "|2012-01-04 00:00:00|60.21|60.35|59.47|59.71| 9,593,300.00|    52.08|\n",
            "|2012-01-05 00:00:00|59.35|59.62|58.37|59.42|12,768,200.00|    51.83|\n",
            "|2012-01-06 00:00:00|59.42|59.45|58.87|59.00| 8,069,400.00|    51.46|\n",
            "|2012-01-09 00:00:00|59.03|59.55|58.92|59.18| 6,679,300.00|    51.62|\n",
            "+-------------------+-----+-----+-----+-----+-------------+---------+\n",
            "only showing top 5 rows\n",
            "\n"
          ]
        }
      ]
    },
    {
      "cell_type": "code",
      "source": [
        "#removing the commas from the the Volume column and creating new HV ratio column(ratio of High Price/Vlume of Stock traded)\n",
        "from pyspark.sql.functions import regexp_replace, col\n",
        "stock_saf_df = stock_saf_df.withColumn(\"Volume\", regexp_replace(col(\"Volume\"), \",\", \"\"))\n",
        "stock_saf_df = stock_saf_df.withColumn(\"HV Ratio\", stock_saf_df.High/ stock_saf_df.Volume)\n",
        "stock_saf_df.show(5)"
      ],
      "metadata": {
        "colab": {
          "base_uri": "https://localhost:8080/"
        },
        "id": "dJc-A64Mv8Eh",
        "outputId": "3dc72f84-03ed-456e-bcd5-0e8564699c8c"
      },
      "execution_count": 28,
      "outputs": [
        {
          "output_type": "stream",
          "name": "stdout",
          "text": [
            "+-------------------+-----+-----+-----+-----+-----------+---------+--------------------+\n",
            "|               Date| Open| High|  Low|Close|     Volume|Adj Close|            HV Ratio|\n",
            "+-------------------+-----+-----+-----+-----+-----------+---------+--------------------+\n",
            "|2012-01-03 00:00:00|59.97|61.06|59.87|60.33|12668800.00|    52.62|4.819714574387472E-6|\n",
            "|2012-01-04 00:00:00|60.21|60.35|59.47|59.71| 9593300.00|    52.08|6.290848821573389...|\n",
            "|2012-01-05 00:00:00|59.35|59.62|58.37|59.42|12768200.00|    51.83|4.669413073103491E-6|\n",
            "|2012-01-06 00:00:00|59.42|59.45|58.87|59.00| 8069400.00|    51.46|7.367338339901356E-6|\n",
            "|2012-01-09 00:00:00|59.03|59.55|58.92|59.18| 6679300.00|    51.62|8.915604928660188E-6|\n",
            "+-------------------+-----+-----+-----+-----+-----------+---------+--------------------+\n",
            "only showing top 5 rows\n",
            "\n"
          ]
        }
      ]
    },
    {
      "cell_type": "markdown",
      "source": [
        "###**Performing Data Analysis**###"
      ],
      "metadata": {
        "id": "9hFUL5xD65hB"
      }
    },
    {
      "cell_type": "code",
      "source": [
        "# sql context created and getting list of tables names in the sql context\n",
        "sqlCtx = SQLContext(spark)\n",
        "stock_saf_df.createOrReplaceTempView(\"stock_data\")\n",
        "print(\"Tables in SQLContext:\", sqlCtx.tableNames())"
      ],
      "metadata": {
        "colab": {
          "base_uri": "https://localhost:8080/"
        },
        "id": "BXcJSoOT0sXC",
        "outputId": "934bb69f-9770-418d-cc77-0a415dbe3e74"
      },
      "execution_count": 31,
      "outputs": [
        {
          "output_type": "stream",
          "name": "stdout",
          "text": [
            "Tables in SQLContext: ['stock_data']\n"
          ]
        }
      ]
    },
    {
      "cell_type": "code",
      "source": [
        "#day with peak high price is obtained using SQL\n",
        "\n",
        "peak_high_price = sqlCtx.sql(\"SELECT Date, High FROM stock_data ORDER BY High DESC LIMIT 1\")\n",
        "peak_high_price.show()"
      ],
      "metadata": {
        "colab": {
          "base_uri": "https://localhost:8080/"
        },
        "id": "Epj4BNIo3ko8",
        "outputId": "5adbd2b9-aca3-4015-f44e-f6452916cae8"
      },
      "execution_count": 32,
      "outputs": [
        {
          "output_type": "stream",
          "name": "stdout",
          "text": [
            "+-------------------+-----+\n",
            "|               Date| High|\n",
            "+-------------------+-----+\n",
            "|2015-01-13 00:00:00|90.97|\n",
            "+-------------------+-----+\n",
            "\n"
          ]
        }
      ]
    },
    {
      "cell_type": "code",
      "source": [
        "# to find the mean of the close column \n",
        "\n",
        "stock_saf_df[['close']].describe().show()"
      ],
      "metadata": {
        "colab": {
          "base_uri": "https://localhost:8080/"
        },
        "id": "H_Tg5AA07l29",
        "outputId": "c03d86da-0dc3-4b4c-834f-7dcbf398bd34"
      },
      "execution_count": 33,
      "outputs": [
        {
          "output_type": "stream",
          "name": "stdout",
          "text": [
            "+-------+-----------------+\n",
            "|summary|            close|\n",
            "+-------+-----------------+\n",
            "|  count|             1258|\n",
            "|   mean|72.38844992050863|\n",
            "| stddev|6.756859155425468|\n",
            "|    min|            56.42|\n",
            "|    max|            90.47|\n",
            "+-------+-----------------+\n",
            "\n"
          ]
        }
      ]
    },
    {
      "cell_type": "markdown",
      "source": [
        "the mean of the close column is :72.39"
      ],
      "metadata": {
        "id": "jPvHydP88Mq1"
      }
    },
    {
      "cell_type": "code",
      "source": [
        "#getting the min/max values of Volume column\n",
        "stock_saf_df[['Volume']].describe().show()"
      ],
      "metadata": {
        "colab": {
          "base_uri": "https://localhost:8080/"
        },
        "id": "FqtFvLzpJeeu",
        "outputId": "4da8a1ec-0e37-4ada-8c6f-29861cb21ad4"
      },
      "execution_count": 34,
      "outputs": [
        {
          "output_type": "stream",
          "name": "stdout",
          "text": [
            "+-------+-----------------+\n",
            "|summary|           Volume|\n",
            "+-------+-----------------+\n",
            "|  count|             1258|\n",
            "|   mean|8222093.481717011|\n",
            "| stddev|  4519780.8431556|\n",
            "|    min|      10010500.00|\n",
            "|    max|       9994400.00|\n",
            "+-------+-----------------+\n",
            "\n"
          ]
        }
      ]
    },
    {
      "cell_type": "markdown",
      "source": [
        "min value is 10010500.00 and max value is 9994400.00"
      ],
      "metadata": {
        "id": "UwjBvUT4Kl6I"
      }
    },
    {
      "cell_type": "code",
      "source": [
        "#counting the number of days with close price < 60\n",
        "\n",
        "days_60 = stock_saf_df[stock_saf_df['close'] < 60]\n",
        "days_60.count()\n"
      ],
      "metadata": {
        "colab": {
          "base_uri": "https://localhost:8080/"
        },
        "id": "FqQVUKi9K2jH",
        "outputId": "f5a5cf7e-932b-4b51-a5e3-b3f06912edef"
      },
      "execution_count": 35,
      "outputs": [
        {
          "output_type": "execute_result",
          "data": {
            "text/plain": [
              "81"
            ]
          },
          "metadata": {},
          "execution_count": 35
        }
      ]
    },
    {
      "cell_type": "code",
      "source": [
        "#getting % time where High is >80$\n",
        "high_greater = sqlCtx.sql(\"SELECT COUNT(*) FROM stock_data WHERE High > 80\")\n",
        "high_count = high_greater.collect()[0][0]\n",
        "high_greater = sqlCtx.sql(\"SELECT COUNT(*) FROM stock_data\")\n",
        "count = high_greater.collect()[0][0]\n",
        "\n",
        "# finding and converting the results to percentage\n",
        "percentage = (high_count/count) * 100\n",
        "\n",
        "print(\"% time where High is >80$: {:.2f}%\".format(percentage))"
      ],
      "metadata": {
        "colab": {
          "base_uri": "https://localhost:8080/"
        },
        "id": "ZX1iEdxkMhxr",
        "outputId": "521fc31f-9ccd-4148-9727-ee1ec62ba0b7"
      },
      "execution_count": 44,
      "outputs": [
        {
          "output_type": "stream",
          "name": "stdout",
          "text": [
            "% time where High is >80$: 8.43%\n"
          ]
        }
      ]
    },
    {
      "cell_type": "code",
      "source": [
        "#finding the pearson correlation between High and low\n",
        "# to get this right we need to import correlation functon frm pyspark\n",
        "\n",
        "from pyspark.sql.functions import corr\n",
        "high_greater = stock_saf_df.select(corr(\"High\", \"Volume\").alias(\"correlation\")).collect()[0][0]\n",
        "print(\"Pearson correlation between High and Volume is:\", high_greater)"
      ],
      "metadata": {
        "colab": {
          "base_uri": "https://localhost:8080/"
        },
        "id": "5tkvMV3MS5Ke",
        "outputId": "f783f8a7-bc03-4c15-a6f6-106fe9c8430d"
      },
      "execution_count": 46,
      "outputs": [
        {
          "output_type": "stream",
          "name": "stdout",
          "text": [
            "Pearson correlation between High and Volume is: -0.33843260582148915\n"
          ]
        }
      ]
    },
    {
      "cell_type": "code",
      "source": [
        "# to find the maximum High per Year, we group by year on SQL\n",
        "\n",
        "high_max = sqlCtx.sql(\"SELECT year(Date) as year, max(High) as max_high FROM stock_data GROUP BY year(Date) ORDER BY max_high DESC\")\n",
        "\n",
        "# Show the result\n",
        "high_max.show()"
      ],
      "metadata": {
        "colab": {
          "base_uri": "https://localhost:8080/"
        },
        "id": "QyRk8CDIWz9E",
        "outputId": "88991df1-f5a1-4841-d0d8-39bbfdbf599a"
      },
      "execution_count": 47,
      "outputs": [
        {
          "output_type": "stream",
          "name": "stdout",
          "text": [
            "+----+--------+\n",
            "|year|max_high|\n",
            "+----+--------+\n",
            "|2015|   90.97|\n",
            "|2014|   88.09|\n",
            "|2013|   81.37|\n",
            "|2012|   77.60|\n",
            "|2016|   75.19|\n",
            "+----+--------+\n",
            "\n"
          ]
        }
      ]
    }
  ]
}